{
 "cells": [
  {
   "cell_type": "markdown",
   "metadata": {},
   "source": [
    "# Les classes"
   ]
  },
  {
   "cell_type": "markdown",
   "metadata": {},
   "source": [
    "### Classe vide\n",
    "\n",
    "Permet de créer des instances (aka objets), mais on a peu de fonctionnalités..."
   ]
  },
  {
   "cell_type": "code",
   "execution_count": null,
   "metadata": {},
   "outputs": [],
   "source": [
    "class CompteBancaireV1a:\n",
    "    pass\n",
    "\n",
    "# La classe en tant que telle\n",
    "print(CompteBancaireV1a)\n",
    "\n",
    "# Instances de la classe (les différents objets créés)\n",
    "compte_01 = CompteBancaireV1a()\n",
    "compte_02 = CompteBancaireV1a()\n",
    "print(compte_01)\n",
    "print(compte_02)"
   ]
  },
  {
   "cell_type": "markdown",
   "metadata": {},
   "source": [
    "### On ajoute un constructeur\n",
    "\n",
    "La méthode \\__init__() s'exécute automatiquement au moment ou l'on cré un nouvel objet à l'aide de la classe.\n",
    "Va nous permettre de créer des variables internes (aka les propriétés) dont les valeurs sont propres à chaque objet."
   ]
  },
  {
   "cell_type": "code",
   "execution_count": null,
   "metadata": {},
   "outputs": [],
   "source": [
    "class CompteBancaireV1b:\n",
    "\n",
    "    def __init__(self,noCompte,solde=0):\n",
    "        ''' Constructeur '''\n",
    "        self.noCompte = noCompte\n",
    "        self.solde    = solde\n",
    "\n",
    "\n",
    "# Chaque instance a ses propres propriétés; les variables internes de chaque objet créé conservent leurs valeurs\n",
    "compte_03 = CompteBancaireV1b('3')\n",
    "compte_04 = CompteBancaireV1b('4', 500)\n",
    "\n",
    "print(compte_03)\n",
    "print('No. Compte : ', compte_03.noCompte)\n",
    "print('Solde : ', compte_03.solde)\n",
    "\n",
    "print(compte_04)\n",
    "print('No. Compte : ', compte_04.noCompte)\n",
    "print('Solde : ', compte_04.solde)"
   ]
  },
  {
   "cell_type": "markdown",
   "metadata": {},
   "source": [
    "### \\__str__ et autres *'dunder' metods*\n",
    "\n",
    "Par défaut, la classe hérite de certaines méthodes (ce sont des fonctions de base) mais on peut les modifier."
   ]
  },
  {
   "cell_type": "code",
   "execution_count": null,
   "metadata": {},
   "outputs": [],
   "source": [
    "# Par exemple, il existe une méthode '__str__()', hérité par défaut, qui permet de représenter l'objet\n",
    "# à l'aided'une chaîne de caractère. Cette fonction est entre-autres implicitement appelée par la fonction print()\n",
    "print(compte_04)\n",
    "print(compte_04.__str__())"
   ]
  },
  {
   "cell_type": "code",
   "execution_count": null,
   "metadata": {},
   "outputs": [],
   "source": [
    "class CompteBancaireV1:\n",
    "\n",
    "    def __init__(self,noCompte,solde=0):\n",
    "        ''' Constructeur '''\n",
    "        self.noCompte = noCompte\n",
    "        self.solde = solde\n",
    "\n",
    "    def __str__(self):\n",
    "        ''' Version chaine de caratères de l'objet '''\n",
    "        return \"[CB,\" + self.noCompte + \",\" + str(self.solde) + \"]\"\n",
    "    \n",
    "    \n",
    "    \n",
    "compte_05 = CompteBancaireV1('5', 1000)\n",
    "print(compte_05)\n",
    "print(compte_05.__str__())"
   ]
  },
  {
   "cell_type": "markdown",
   "metadata": {},
   "source": [
    "### Mutateurs et accesseurs"
   ]
  },
  {
   "cell_type": "code",
   "execution_count": null,
   "metadata": {},
   "outputs": [],
   "source": [
    "# Jusqu'à maintenant, on peut accéder aux propriétés (et les modifier!) comme on veut de l'extérieur\n",
    "\n",
    "print(compte_05.solde)\n",
    "compte_05.solde -= 3500\n",
    "print(compte_05.solde)"
   ]
  },
  {
   "cell_type": "code",
   "execution_count": null,
   "metadata": {},
   "outputs": [],
   "source": [
    "# En ajoutnt '__' devant le nom des propriétés, on en bloque l'accès de l'extérieur\n",
    "class CompteBancaireV3a:\n",
    "    \n",
    "    def __init__(self, noCompte, solde=0):\n",
    "        ''' Constructeur '''\n",
    "        self.__noCompte = noCompte\n",
    "        self.__solde = solde\n",
    "        \n",
    "\n",
    "compte_06 = CompteBancaireV3a('6', 2000)\n"
   ]
  },
  {
   "cell_type": "code",
   "execution_count": null,
   "metadata": {},
   "outputs": [],
   "source": [
    "# Va générer une erreur...\n",
    "print(compte_06.__solde)\n",
    "compte_06.__solde += 5000\n"
   ]
  },
  {
   "cell_type": "code",
   "execution_count": null,
   "metadata": {},
   "outputs": [],
   "source": [
    "# Pour accéder aux propriété, on crée des fonctions spécialisées dans l'accession et la mutation des propriétés;\n",
    "# on les appellent respectivement Accesseurs (*Getters*) et Mutateurs (*Setters*)\n",
    "class CompteBancaireV3b:\n",
    "    \n",
    "    def __init__(self, noCompte, solde=0):\n",
    "        ''' Constructeur '''\n",
    "        self.__noCompte = noCompte\n",
    "        self.__solde = solde\n",
    "        \n",
    "    def getSolde(self):\n",
    "        return self.__solde\n",
    "    \n",
    "    def setSolde(self, montant):\n",
    "        self.__solde = montant\n",
    "\n",
    "\n",
    "compte_07 = CompteBancaireV3b('7', 5000)\n",
    "\n",
    "print(compte_07.getSolde())  # <-- Ce sont des fonctions (des méthodes pour être précis) donc besoin des '()' pour l'exécution\n",
    "compte_07.setSolde(6000)\n",
    "print(compte_07.getSolde())"
   ]
  },
  {
   "cell_type": "code",
   "execution_count": null,
   "metadata": {},
   "outputs": [],
   "source": [
    "# Simplifions l'utilisation des accesseurs/mutateurs en permettant à l'utilisateur\n",
    "# d'utiliser une seule fonction unifiée pour les deux opérations (on pourrait enlever getSolde et setSolde si l'on veut)\n",
    "class CompteBancaireV3:\n",
    "    \n",
    "    def __init__(self, noCompte, solde=0):\n",
    "        ''' Constructeur '''\n",
    "        self.__noCompte = noCompte\n",
    "        self.__solde = solde\n",
    "        \n",
    "    def getSolde(self):             # <-- On peut laisser pour 'backward compatibility' si on veut, mais plus nécessaire\n",
    "        return self.__solde\n",
    "    \n",
    "    def setSolde(self, montant):    # <-- On peut laisser pour 'backward compatibility' si on veut, mais plus nécessaire\n",
    "        self.__solde = montant\n",
    "        \n",
    "    def solde(self, montant=None):\n",
    "        if montant == None:\n",
    "            return self.__solde\n",
    "        else:\n",
    "            self.__solde = montant\n",
    "\n",
    "            \n",
    "compte_08 = CompteBancaireV3('8', 4000)\n",
    "\n",
    "print(compte_08.solde())\n",
    "compte_08.solde(-6000)\n",
    "print(compte_08.solde())"
   ]
  },
  {
   "cell_type": "markdown",
   "metadata": {},
   "source": [
    "### Décorateurs\n",
    "\n",
    "Les décorateurs sont des fonctions spéciales, sur lesquelles nous reviendront plus en détail plus tard au cours de la session. La notation 'Pie', à l'aide du '@', permet d'affecter un décorateur à la définition d'une fonction."
   ]
  },
  {
   "cell_type": "code",
   "execution_count": null,
   "metadata": {},
   "outputs": [],
   "source": [
    "# Le décorateur @property permet d'utiliser les méthodes comme si elles étaient des propriétés (i.e. sans les parenthèses)\n",
    "class CompteBancaireV2a:\n",
    "\n",
    "    def __init__(self, noCompte, solde=0):\n",
    "        ''' Constructeur '''\n",
    "        self.__noCompte = noCompte\n",
    "        self.__solde = solde\n",
    "\n",
    "    @property                # Méthode qui va pouvoir être accédée comme si elle était une propriété, sans les parenthèses\n",
    "    def solde(self):\n",
    "        return self.__solde\n",
    "\n",
    "            \n",
    "compte_09 = CompteBancaireV2a('9', 75)\n",
    "\n",
    "print(compte_03.solde)   # <-- .solde     Initialement, on n'avait pas besoin des parenthèses pour consulter le solde\n",
    "print(compte_08.solde()) # <-- .solde()   En cours de route, on a forcé l'utilisation des parenthèses\n",
    "print(compte_09.solde)   # <-- .solde     Finalement, on a réglé le 'problème' avec @property"
   ]
  },
  {
   "cell_type": "code",
   "execution_count": null,
   "metadata": {},
   "outputs": [],
   "source": [
    "# On va maintenant rajouter ce qu'il faut pour pouvoir modifier le solde.\n",
    "class CompteBancaireV2b:\n",
    "\n",
    "    def __init__(self, noCompte, solde=0):\n",
    "        ''' Constructeur '''\n",
    "        self.__noCompte = noCompte\n",
    "        self.__solde = solde\n",
    "\n",
    "    @property\n",
    "    def solde(self):\n",
    "        return self.__solde\n",
    "\n",
    "    @solde.setter\n",
    "    def solde(self, montant):\n",
    "        ''' On ne peut pas mettre un solde negatif '''\n",
    "        if montant > 0:\n",
    "            self.__solde = montant\n",
    "            \n",
    "            \n",
    "compte_10 = CompteBancaireV2b('10', 300)\n",
    "\n",
    "print(compte_10.solde)\n",
    "compte_10.solde = 400\n",
    "compte_10.solde = -6000\n",
    "print(compte_10.solde)"
   ]
  },
  {
   "cell_type": "code",
   "execution_count": null,
   "metadata": {},
   "outputs": [],
   "source": [
    "# On peut aussi rajouter notre méthode __str__() initiale...\n",
    "class CompteBancaireV2:\n",
    "\n",
    "    def __init__(self, noCompte, solde=0):\n",
    "        ''' Constructeur '''\n",
    "        self.__noCompte = noCompte\n",
    "        self.__solde = solde\n",
    "\n",
    "    @property\n",
    "    def solde(self):\n",
    "        return self.__solde\n",
    "\n",
    "    @solde.setter\n",
    "    def solde(self, montant):\n",
    "        ''' On ne peut pas mettre un solde negatif '''\n",
    "        if montant > 0:\n",
    "            self.__solde = montant\n",
    "\n",
    "    def __str__(self):\n",
    "        ''' Version chaine de caratères de l'objet '''\n",
    "        return \"[CB,\" + self.__noCompte + \",\" + str(self.__solde) + \"]\"\n",
    "    \n",
    "\n",
    "    \n",
    "compte_11 = CompteBancaireV2('11', 800)\n",
    "print(compte_11)\n"
   ]
  },
  {
   "cell_type": "markdown",
   "metadata": {},
   "source": [
    "### Autres fonctionnalités / méthodes"
   ]
  },
  {
   "cell_type": "code",
   "execution_count": null,
   "metadata": {},
   "outputs": [],
   "source": [
    "# Repartons avec une classe simple, avec un constructeur et 2 propriétés ayant chacune leur accesseur.\n",
    "# De plus, nous avons redéfini la méthode héritée __str__().\n",
    "class CompteBancaire_a:\n",
    "\n",
    "    def __init__(self, noCompte, solde=0):\n",
    "        ''' Constructeur '''\n",
    "        self.__noCompte = noCompte\n",
    "        self.__solde = solde\n",
    "\n",
    "\n",
    "    ''' Mutateurs et accesseurs '''  # <-- On a que des accesseurs pour l'instant\n",
    "    @property\n",
    "    def noCompte(self):\n",
    "        return self.__noCompte\n",
    "\n",
    "    @property\n",
    "    def solde(self):\n",
    "        return self.__solde\n",
    "    \n",
    "    \n",
    "    def __str__(self):\n",
    "        ''' Version chaine de caratères de l'objet '''\n",
    "        return \"[CB,\" + self.noCompte + \",\" + str(self.solde) + \"]\"\n",
    "\n",
    "    \n",
    "compte_12 = CompteBancaire_a('12', 700)\n",
    "print(compte_12.noCompte)\n",
    "print(compte_12.solde)\n",
    "print(compte_12)"
   ]
  },
  {
   "cell_type": "code",
   "execution_count": null,
   "metadata": {},
   "outputs": [],
   "source": [
    "# Au lieu d'un mutateur pour le solde, on va ajouter une méthode spécifique pour l'incrémentation (dépôt)\n",
    "# et une autre spécifique pour la décrémentation (retrait) puisque ça fait du sens d'un point de vue utilisateur.\n",
    "class CompteBancaire:\n",
    "\n",
    "    def __init__(self, noCompte, solde=0):\n",
    "        ''' Constructeur '''\n",
    "        self.__noCompte = noCompte\n",
    "        self.__solde = solde\n",
    "\n",
    "    ''' SERVICES '''\n",
    "\n",
    "    def depot(self, montant):    # <-- Notez l'utilisation systématique du 'self' comme 1er argument des méthodes\n",
    "        ''' Service de dépot'''\n",
    "        self.__solde += montant\n",
    "\n",
    "    def retrait(self, montant):\n",
    "        ''' Le montant du retrait doit être inférieur au solde '''\n",
    "        if ((self.solde - montant) > 0) and (montant > 0):\n",
    "            self.__solde -= montant\n",
    "            return True\n",
    "        return False\n",
    "\n",
    "    ''' Mutateurs et accesseurs '''\n",
    "    @property\n",
    "    def noCompte(self):\n",
    "        return self.__noCompte\n",
    "\n",
    "    @property\n",
    "    def solde(self):\n",
    "        return self.__solde\n",
    "\n",
    "    def __str__(self):\n",
    "        ''' Version chaine de caratères de l'objet '''\n",
    "        return \"[CB,\" + self.noCompte + \",\" + str(self.solde) + \"]\"\n",
    "\n",
    "    \n",
    "compte_13 = CompteBancaire('13', 700)\n",
    "\n",
    "print(compte_13.noCompte)\n",
    "print(compte_13.solde)\n",
    "print(compte_13)\n",
    "\n",
    "# compte_13.depot(200)\n",
    "# print(compte_13.solde)\n",
    "\n",
    "# compte_13.retrait(500)\n",
    "# print(compte_13.solde)"
   ]
  },
  {
   "cell_type": "markdown",
   "metadata": {},
   "source": [
    "### Héritage"
   ]
  },
  {
   "cell_type": "code",
   "execution_count": null,
   "metadata": {},
   "outputs": [],
   "source": [
    "# En plus d'hériter des méthodes par défaut, cette classe hérite des méthodes et propriétés de la classe CompteBancaire.\n",
    "# De plus, elle modifie l'une de ces méthode.\n",
    "\n",
    "class CompteCheque(CompteBancaire):\n",
    "    def __str__(self):\n",
    "        ''' Version chaine de caratères de l'objet '''\n",
    "        return \"[CC,\" + self.noCompte + \",\" + str(self.solde) + \"]\"\n",
    "    \n",
    "\n",
    "    \n",
    "compte_14 = CompteCheque('14', 500)\n",
    "\n",
    "print(compte_14.solde)\n",
    "print(compte_14)"
   ]
  }
 ],
 "metadata": {
  "kernelspec": {
   "display_name": "Python 3",
   "language": "python",
   "name": "python3"
  },
  "language_info": {
   "codemirror_mode": {
    "name": "ipython",
    "version": 3
   },
   "file_extension": ".py",
   "mimetype": "text/x-python",
   "name": "python",
   "nbconvert_exporter": "python",
   "pygments_lexer": "ipython3",
   "version": "3.7.6"
  }
 },
 "nbformat": 4,
 "nbformat_minor": 4
}
