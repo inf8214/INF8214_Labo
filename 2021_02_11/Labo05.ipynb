{
 "cells": [
  {
   "cell_type": "markdown",
   "metadata": {},
   "source": [
    "# Labo 05 - On travaille sur le TP!"
   ]
  },
  {
   "cell_type": "markdown",
   "metadata": {},
   "source": [
    "\n",
    "\n",
    "### Objectif 'ultime' de la 1e partie du TP :\n",
    "\n",
    "Exécuter l'un des programmes de la suite PHYLIP à l'aide de python; faire le suivi de l'exécution (connaître le statut, interrompre l'exécution, etc.); implémenter la solution à l'aide de la POO.\n",
    "\n",
    "\n",
    "### ...mais d'abord :\n",
    "    1. Utiliser Python pour exécuter une commande/processus simple ne nécessitant peu ou pas de suivi.\n",
    "    2. Utiliser Python pour un processus plus long, pour lequel on veut un suivi :\n",
    "        - Savoir si le processus est terminé ou non\n",
    "        - Pouvoir interrompe le processus\n",
    "        - etc.\n",
    "    3. Utiliser une classe Python pour l'exécution et le suivi d'un processus.\n",
    "\n",
    "### ...sans oublier :\n",
    "    4. Exécuter un programme PHYLIP en ligne de commande, en suivant les directives au fur et à mesure, ce qui implique:\n",
    "        - Avoir installé le programme et savoir comment le faire fonctionner\n",
    "        - Avoir un/des fichiers de données pour alimenter le programme\n",
    "    5. Exécuter un programme PHYLIP en ligne de commande, en passant les paramètres d'exécution via un fichier."
   ]
  },
  {
   "cell_type": "markdown",
   "metadata": {},
   "source": [
    "## 1. Exécuter une commande simple à l'aide de *subprocess.run()*\n",
    "\n",
    "On met temporairement de côté les programmes PHYLIP. Cet exercice consiste à exécutez la commande ' **git --help** ' et à enregistrer la réponse retournée dans un fichier text ' **output.txt** ', et ce en utilisant **Python**.\n",
    "\n",
    "Voir la [vidéo](https://youtu.be/2Fp1N6dof0Y) (19 min) de Corey Schafer sur le sujet."
   ]
  },
  {
   "cell_type": "code",
   "execution_count": 5,
   "metadata": {},
   "outputs": [],
   "source": [
    "# Exécutez cette cellule pour mettre la librairie en mémoire\n",
    "import subprocess"
   ]
  },
  {
   "cell_type": "markdown",
   "metadata": {},
   "source": [
    "Quelques exemples d'exécution simple, avec retour dans un fichier"
   ]
  },
  {
   "cell_type": "code",
   "execution_count": 6,
   "metadata": {},
   "outputs": [
    {
     "data": {
      "text/plain": [
       "CompletedProcess(args='git --help > output.txt', returncode=0)"
      ]
     },
     "execution_count": 6,
     "metadata": {},
     "output_type": "execute_result"
    }
   ],
   "source": [
    "# Spécifier shell=True lorsque args est une chaîne de caractères.\n",
    "# Ici '> output.txt' permet de diriger le text de retour dans un fichier nommé output.txt.\n",
    "\n",
    "args = \"git --help > output.txt\"\n",
    "subprocess.run(args, shell=True)"
   ]
  },
  {
   "cell_type": "code",
   "execution_count": 7,
   "metadata": {},
   "outputs": [],
   "source": [
    "# L'argument stdout permet de gérer la sortie à l'aide de python\n",
    "\n",
    "args = \"git --help\"\n",
    "with open('output2.txt', 'w') as f:\n",
    "    subprocess.run(args, shell=True, stdout=f)"
   ]
  },
  {
   "cell_type": "code",
   "execution_count": 8,
   "metadata": {},
   "outputs": [],
   "source": [
    "# En passant une liste d'arguments on laisse subprocess faire la gestion des noms avec espaces, etc.\n",
    "# shell=False (par défaut) lorsque args est une liste. Plus sécuritaire.\n",
    "\n",
    "args = [\"git\", \"--help\"]\n",
    "with open('output3.tx', 'w') as f:\n",
    "    subprocess.run(args, stdout=f)"
   ]
  },
  {
   "cell_type": "markdown",
   "metadata": {},
   "source": [
    "## 2. Faire le suivi de processus avec *subprocess.popen()*\n",
    "\n"
   ]
  },
  {
   "cell_type": "code",
   "execution_count": 2,
   "metadata": {},
   "outputs": [],
   "source": [
    "# Exécutez cette cellule pour mettre la librairie en mémoire\n",
    "import subprocess\n",
    "import time\n",
    "import os\n",
    "from psutil import pid_exists"
   ]
  },
  {
   "cell_type": "markdown",
   "metadata": {},
   "source": [
    "Exemple d'interruption avec ***.kill()***. On vérifie l'existence du processus avec psutil.***pid_exists()*** par exemple."
   ]
  },
  {
   "cell_type": "code",
   "execution_count": 4,
   "metadata": {},
   "outputs": [
    {
     "name": "stdout",
     "output_type": "stream",
     "text": [
      "True\n",
      "False\n"
     ]
    }
   ],
   "source": [
    "# Ici le programme Curl est utilisé pour faire une requête http, ce qui devrait prendre 1 ou 2 secondes...\n",
    "url = 'https://www.ebi.ac.uk/proteins/api/proteins?offset=0&size=100&gene=epo'\n",
    "args = [\"curl\", url]\n",
    "  \n",
    "# Subprocess\n",
    "p = subprocess.Popen(args)\n",
    "\n",
    "# Obtenir le process id (pid)\n",
    "pid = p.pid\n",
    "\n",
    "# Vérifier si le processus existe\n",
    "print(pid_exists(pid))\n",
    "\n",
    "# # Interrompre l'exécution du programme\n",
    "p.kill()\n",
    "print(pid_exists(pid))\n",
    "\n"
   ]
  },
  {
   "cell_type": "markdown",
   "metadata": {},
   "source": [
    "Exemple de boucle pour l'interrogation du statut avec ***.poll()***"
   ]
  },
  {
   "cell_type": "code",
   "execution_count": 6,
   "metadata": {},
   "outputs": [
    {
     "name": "stdout",
     "output_type": "stream",
     "text": [
      "18060 en cours d'exécution...\n",
      "18060 en cours d'exécution...\n",
      "Interrompu!\n"
     ]
    }
   ],
   "source": [
    "# Ici le programme Curl est utilisé pour faire une requête http, ce qui devrait prendre 1 ou 2 secondes...\n",
    "url = 'https://www.ebi.ac.uk/proteins/api/proteins?offset=0&size=100&gene=epo'\n",
    "args = [\"curl\", url]\n",
    "\n",
    "# Ouverture du fichier de output\n",
    "try   : f = open('output_http.txt', 'w')\n",
    "except: exit()\n",
    "    \n",
    "# Subprocess\n",
    "p = subprocess.Popen(args, stdout=f)\n",
    "\n",
    "# Obtenir le process id (pid)\n",
    "pid = p.pid\n",
    "\n",
    "\n",
    "# Paramètres pour la vérification du status\n",
    "t      = time.time()\n",
    "t_wait = .2                            # <-- Essayez différentes valeurs!\n",
    "t_max  = .4  # Temps max, en secondes  # <-- Essayez différentes valeurs!\n",
    "\n",
    "# Vérifier le status\n",
    "success = True\n",
    "while success and p.poll() == None:\n",
    "    if time.time() - t <= t_max :\n",
    "        # On a encore du temps...\n",
    "        print(f\"{p.pid} en cours d'exécution...\")\n",
    "        time.sleep(t_wait)\n",
    "    else:\n",
    "        # On a atteint la durée maximale...\n",
    "        p.kill()\n",
    "        success = False\n",
    "\n",
    "        \n",
    "# # Fermeture du fichier\n",
    "f.close()\n",
    "\n",
    "# Message\n",
    "print('Terminé!' if success else 'Interrompu!')"
   ]
  },
  {
   "cell_type": "markdown",
   "metadata": {},
   "source": [
    "## 3. POO\n",
    "\n",
    "Créez une classe Python permettant de gérer l'exécurion du programme Curl."
   ]
  },
  {
   "cell_type": "code",
   "execution_count": null,
   "metadata": {},
   "outputs": [],
   "source": [
    "# Exécutez cette cellule pour mettre la librairie en mémoire\n",
    "import subprocess\n",
    "import time\n",
    "import os\n",
    "from psutil import pid_exists"
   ]
  },
  {
   "cell_type": "code",
   "execution_count": null,
   "metadata": {},
   "outputs": [],
   "source": [
    "# Voici une structure que vous pouvez suivre créer votre classe\n",
    "class RunCurl:\n",
    "    \n",
    "    def __init__(self, url, output='output.txt'):\n",
    "        self.url = url\n",
    "        self.output = output\n",
    "        # Il faut ajouter d'autres propriétés!!\n",
    "        \n",
    "    def run(self):\n",
    "        # Lance l’exécution avec les paramètres fournis au constructeur. L’exécution ne doit pas être bloquante. \n",
    "        pass\n",
    "    \n",
    "    def status(self):\n",
    "        # retourne le status d’exécution : (0) non commencée / (1) en cours\n",
    "        # / (2) terminée avec succès / (3) terminée avec un échec\n",
    "        pass\n",
    "    \n",
    "    def reset(self):\n",
    "        # Permet d’interrompre l’exécution et d’en effacer toutes les traces.\n",
    "        pass\n",
    "    \n",
    "    def view(self):\n",
    "        # retourne la liste des fichiers générés.\n",
    "        pass\n",
    "    \n",
    "    def read(self, fichier):\n",
    "        # retourne le contenu du fichier (si il existe).\n",
    "        pass\n",
    "        "
   ]
  },
  {
   "cell_type": "markdown",
   "metadata": {},
   "source": [
    "Programme principal"
   ]
  },
  {
   "cell_type": "code",
   "execution_count": null,
   "metadata": {},
   "outputs": [],
   "source": [
    "# Paramètres\n",
    "url = 'https://www.ebi.ac.uk/proteins/api/proteins?offset=0&size=100&gene=epo'\n",
    "output = 'output_http.txt'\n",
    "\n",
    "# Créer un objet RunCurl\n",
    "maRequeteCurl = RunCurl(url, output)\n",
    "\n",
    "# Manupuler cet objet...\n",
    "maRequeteCurl.run()\n",
    "#...\n",
    "#..."
   ]
  },
  {
   "cell_type": "markdown",
   "metadata": {},
   "source": [
    "##  4. Exécuter un programme PHYLIP\n",
    "\n",
    "La documentation pour télécharger, installer et utiliser le programme est en ligne; il faut la lire! Si vous avez des difficultés d'installations et que vous ne vous en sortez pas, il faut demander de l'aide.\n",
    "\n",
    "Pour faire fonctionner les programmes, il faut généralement un fichier d'entrée, i.e. un fichier qui contient les données sur lesquelles votre programme va travailler. Pour l'exemple avec **dnaml**, le fichier requis est un alignement multiple au format phylip. Pour faire vos tests, vous avex besoin de vous en trouver/créer un. Par défaut, un fichier nommé 'infile' est recherché dans le répertoire courant; c'est la façon la plus simple de fournir le fichier au programme pour vos tests."
   ]
  },
  {
   "cell_type": "markdown",
   "metadata": {},
   "source": [
    "##  5. Fournir un fichier de paramètres\n",
    "\n",
    "En exécutant le programme, vous avez du répondre à quelques questions/options. Il est possible de fournir à l'avance les réponses en passant un fichier de paramètres. Ce n'est pas une option propre aux porgrammes PHYLIP mais plutôt une astuce de programmeur... Attention, différences entre Windows et Linux à prendre en compte!"
   ]
  },
  {
   "cell_type": "code",
   "execution_count": null,
   "metadata": {},
   "outputs": [],
   "source": [
    "# Linux Bash\n",
    "cmd = './exe/dnaml < params.txt'\n",
    "\n",
    "# Windows PowerShell\n",
    "cmd = 'Get-Content params.txt | .\\exe\\dnaml'"
   ]
  }
 ],
 "metadata": {
  "kernelspec": {
   "display_name": "Python 3",
   "language": "python",
   "name": "python3"
  },
  "language_info": {
   "codemirror_mode": {
    "name": "ipython",
    "version": 3
   },
   "file_extension": ".py",
   "mimetype": "text/x-python",
   "name": "python",
   "nbconvert_exporter": "python",
   "pygments_lexer": "ipython3",
   "version": "3.7.6"
  }
 },
 "nbformat": 4,
 "nbformat_minor": 4
}
