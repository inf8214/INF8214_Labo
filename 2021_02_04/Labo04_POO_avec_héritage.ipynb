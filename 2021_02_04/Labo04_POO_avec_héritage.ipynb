{
 "cells": [
  {
   "cell_type": "markdown",
   "metadata": {},
   "source": [
    "# Labo 04 - Exercice sur l'héritage en Programmation Orientée Objet"
   ]
  },
  {
   "cell_type": "markdown",
   "metadata": {},
   "source": [
    "## Objectifs de l'exercice\n",
    "\n",
    "Pour cet exercice, mous allons créer 5 classes au total :\n",
    "1. **Séquence** : Permet de manipulet toute séquence alpha-numérique, sans rapport avec la bioinformatique.\n",
    "2. **AcideNucléique** : Hérite de la classe **Séquence**. *Classe abstraite* permettant de renforcer certaines règles pour les classes **Adn** et **Arn**.\n",
    "3. **Adn** : Hérite de la classe **AcideNucléique**. Permet de manipuler des séquences de nucléotides Adn.\n",
    "4. **Arn** : Hérite de la classe **AcideNucléique**. Permet de manipuler des séquences de nucléotides Arn.\n",
    "5. **Protéine** : Hérite directement de la classe **Séquence**. Permet de manipuler des séquences d'acides aminés.\n",
    "\n",
    "Le schéma suivant représente la hiérarchie d'héritage :"
   ]
  },
  {
   "cell_type": "markdown",
   "metadata": {},
   "source": [
    "<img src=\"./héritage.png\" alt=\"schéma\" width=\"600\"/>"
   ]
  },
  {
   "cell_type": "markdown",
   "metadata": {},
   "source": [
    "## Adn_Labo02\n",
    "\n",
    "Soit une version simplifiée de la classe Adn vue ensemble au Labo 02 (renommée **Adn_labo02** pour éviter toute confusion!). Prenez le temps d'en regarder le contenu. L'exercice d'aujourd'hui consiste à 'déconstruire' cette classe pour créer un ensemble de classes plus polyvalentes utilisant l'héritage."
   ]
  },
  {
   "cell_type": "code",
   "execution_count": null,
   "metadata": {},
   "outputs": [],
   "source": [
    "class Adn_labo02:\n",
    "    \n",
    "    \n",
    "    # Constructeur avec deux propriétés privées\n",
    "    def __init__(self, seq=''):\n",
    "        self.__appariments = {'A':'T', 'C':'G', 'G':'C', 'T':'A'}\n",
    "        self.__sequence = self.__valider(seq)\n",
    "    \n",
    "    \n",
    "    # Méthode privée pour la validation\n",
    "    def __valider(self, seq):\n",
    "        seq = seq.upper()\n",
    "        return seq if not set(seq).difference(self.__appariments) else ''\n",
    "    \n",
    "\n",
    "    # Accesseur et mutateur de sequence\n",
    "    @property\n",
    "    def sequence(self):\n",
    "        return self.__sequence\n",
    "    \n",
    "    @sequence.setter\n",
    "    def sequence(self, seq):\n",
    "        self.__sequence = self.__valider(seq)\n",
    "        \n",
    "        \n",
    "    # Autres méthodes publiques\n",
    "    def taille(self):\n",
    "        return len(self.sequence)\n",
    "    \n",
    "    def complement_inverse(self):\n",
    "        return ''.join([self.__appariments[i] for i in self.sequence])[::-1]\n",
    "    \n",
    "    def est_un_palindrome(self):\n",
    "        return True if self.sequence == self.complement_inverse else False\n",
    "\n",
    "\n",
    "    # Surcharge des méthodes 'dunder'\n",
    "    def __str__(self):\n",
    "        return 'Objet Adn_Labo02'\n",
    "    \n",
    "    def __eq__(self, other): # eq = equal\n",
    "        return self.sequence == other.sequence   # <-- On compare la séquence\n",
    "\n",
    "    def __ne__(self, other): # ne = non equal\n",
    "        return self.sequence != other.sequence   # <-- On compare la séquence\n",
    "\n",
    "    def __lt__(self, other): # lt = lower than\n",
    "        return self.taille < other.taille        # <-- On compare la taille de la séquence\n",
    "\n",
    "    def __gt__(self, other): # gt = greater than\n",
    "        return self.taille > other.taille        # <-- On compare la taille de la séquence\n",
    "\n",
    "    def __le__(self, other): # le = lower or equal\n",
    "        return self.taille <= other.taille       # <-- On compare la taille de la séquence\n",
    "\n",
    "    def __ge__(self, other): # ge = greater or equal\n",
    "        return self.taille >= other.taille       # <-- On compare la taille de la séquence\n",
    "\n",
    "    def __add__(self, other):\n",
    "        return Adn_labo02(self.sequence + other.sequence)\n",
    "\n",
    "    "
   ]
  },
  {
   "cell_type": "markdown",
   "metadata": {},
   "source": [
    "## Classe Séquence\n",
    "\n",
    "On veut définir une classe **Séquence** qui servira de parent (et grand-parent!) aux classes **AcideNucléique**, **Adn**, **Arn** et **Protéine**. Retenez toutes les fonctionnalités de la calsse **Adn_labo02** qui s'appliquent à une chaine quelconque de caractères. Modifiez le contenu des fonctions au besoin."
   ]
  },
  {
   "cell_type": "code",
   "execution_count": null,
   "metadata": {},
   "outputs": [],
   "source": [
    "class Séquence:\n",
    "    \n",
    "    pass\n",
    "        \n",
    "        "
   ]
  },
  {
   "cell_type": "markdown",
   "metadata": {},
   "source": [
    "## Classe AcideNucléique\n",
    "\n",
    "La classe **AcideNucléique** hérite de la clase Séquence. Il s'agit d'une ***classe abstraite*** pour les classes **Adn** et **Arn**. Cette classe ne sera jamais instanciée directement. Utilisez cette classe pour forcer la réécriture des fonctions est_un_palindrome(), \\__str__() et \\__add__() pour les classes enfants."
   ]
  },
  {
   "cell_type": "code",
   "execution_count": null,
   "metadata": {},
   "outputs": [],
   "source": [
    "from abc import abstractmethod, ABCMeta  # Faites les importations nécessaires.\n",
    "                                         # À partir de python 3.4+, on peut remplacer 'metaclass=abc.ABCMeta' par 'abc.ABC'\n",
    "\n",
    "\n",
    "class AcideNucléique():\n",
    "\n",
    "    pass\n",
    "    \n",
    "    "
   ]
  },
  {
   "cell_type": "markdown",
   "metadata": {},
   "source": [
    "Testez maintenant la classe **AcideNucléique**. Quand tout fonctionne, passez aux classes **Adn** et **Arn**."
   ]
  },
  {
   "cell_type": "code",
   "execution_count": null,
   "metadata": {},
   "outputs": [],
   "source": [
    "# Créer une 1ere classe enfant de la classe AcideNucléique qui respecte toutes les conditions.\n",
    "# Inutile de développer les méthodes, nous voulons seulement tester si une erreur est générée.\n",
    "class Enfant1(AcideNucléique):\n",
    "\n",
    "    def __str__(self, other):\n",
    "        pass\n",
    "    def __add__(self, other):\n",
    "        pass\n",
    "    def est_un_palindrome(self):\n",
    "        pass\n",
    "\n",
    "    \n",
    "obj1 = Enfant1()"
   ]
  },
  {
   "cell_type": "code",
   "execution_count": null,
   "metadata": {},
   "outputs": [],
   "source": [
    "# Créer une 2ere classe enfant de la classe AcideNucléique qui ne respecte pas les conditions puis testez!\n",
    "class Enfant2(AcideNucléique): \n",
    "    pass\n",
    "\n",
    "\n",
    "obj2 = Enfant2()\n",
    "\n",
    "# Vous devriez obtenir une erreur de type\n",
    "# 'Can't instantiate abstract class Enfant2 with abstract methods complement_inverse, est_un_palindrome'"
   ]
  },
  {
   "cell_type": "markdown",
   "metadata": {},
   "source": [
    "## Classe Adn\n",
    "\n",
    "La classe **Adn** hérite de la clase abstraite **AcideNucléique**, qui elle-même hérite de la classe **Séquence**. On peut maintenant faire une validation de la séquence selon les bases A, C, G et T. Pour ce faire, on va implémenter une variable de classe plutôt qu'une propriété de l'objet."
   ]
  },
  {
   "cell_type": "code",
   "execution_count": null,
   "metadata": {},
   "outputs": [],
   "source": [
    "class Adn(AcideNucléique):\n",
    "    \n",
    "    pass\n",
    "\n",
    "    "
   ]
  },
  {
   "cell_type": "markdown",
   "metadata": {},
   "source": [
    "## Classe Arn\n",
    "\n",
    "La classe **Arn** hérite de la clase abstraite **AcideNucléique**, qui elle-même hérite de la classe **Séquence**. On peut maintenant faire une validation de la séquence selon les bases A, C, G et U. Comme pour la classe **Adn**, nous allons implémenter une variable de classe plutôt qu'une propriété de l'objet."
   ]
  },
  {
   "cell_type": "code",
   "execution_count": null,
   "metadata": {},
   "outputs": [],
   "source": [
    "class Arn(AcideNucléique):\n",
    "    \n",
    "    \n",
    "    pass\n",
    "    \n",
    "    "
   ]
  },
  {
   "cell_type": "markdown",
   "metadata": {},
   "source": [
    "## Classe *Protéine*\n",
    "\n",
    "La classe **Protéine** hérite directement de la classe **Séquence** (Sans passer par la classe abstraite **AcideNucléique**, évidemment!). Ici, pour raccourcir l'exercice, nous n'allons pas ajouter de validation (vous pourrez essayer de votre côté!) mais nous allons tout de même ajouter une propriété d'instance (plutôt que variable de classe) pour un ensemble des acides aminés. Nous allons aussi utiliser **super()** pour faire référence à la classe parent au besoin."
   ]
  },
  {
   "cell_type": "code",
   "execution_count": null,
   "metadata": {},
   "outputs": [],
   "source": [
    "class Protéine(Séquence):\n",
    "    \n",
    "    \n",
    "    pass\n",
    "    \n",
    "    "
   ]
  },
  {
   "cell_type": "markdown",
   "metadata": {},
   "source": [
    "# Héritage multiple\n",
    "\n",
    "Un rapide coup d'oeil sur l'héritage multiple en terminant."
   ]
  },
  {
   "cell_type": "code",
   "execution_count": null,
   "metadata": {},
   "outputs": [],
   "source": [
    "#  Soit les classes A et B\n",
    "class A:\n",
    "    _x = 1\n",
    "    _y = 2\n",
    "class B:\n",
    "    _y = 3\n",
    "    _z = 4\n",
    "\n",
    "# Soit les classes C et D qui héritent de A et B. Notez l'ordre de d'héritage!!\n",
    "class C(A, B):\n",
    "    pass\n",
    "class D(B, A):\n",
    "    pass\n",
    "\n",
    "# Instanciations\n",
    "obj1, obj2,  = C(), D()\n",
    "\n",
    "# Notez l'ordre de préséance de d'héritage!!\n",
    "print(obj1._x)\n",
    "print(obj1._y)\n",
    "print(obj1._z)\n",
    "print('-'*50)\n",
    "print(obj2._x)\n",
    "print(obj2._y)\n",
    "print(obj2._z)"
   ]
  }
 ],
 "metadata": {
  "kernelspec": {
   "display_name": "Python 3",
   "language": "python",
   "name": "python3"
  },
  "language_info": {
   "codemirror_mode": {
    "name": "ipython",
    "version": 3
   },
   "file_extension": ".py",
   "mimetype": "text/x-python",
   "name": "python",
   "nbconvert_exporter": "python",
   "pygments_lexer": "ipython3",
   "version": "3.7.6"
  }
 },
 "nbformat": 4,
 "nbformat_minor": 4
}
