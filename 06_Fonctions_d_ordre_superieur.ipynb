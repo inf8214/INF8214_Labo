{
 "cells": [
  {
   "cell_type": "markdown",
   "metadata": {},
   "source": [
    "# Les fonctions d'ordre supérieur\n",
    "\n",
    "On dit d'une fonction qui accepte une autre fonction comme argument ou qui retourne comme valeur une autre fonction, qu'il s'agit d'une fonction d'ordre supérieur. Pouvoir accepter et retourner des fonctions permet entre-autre de pouvoir contrôler leur exécution. Voyons ça de plus près."
   ]
  },
  {
   "cell_type": "markdown",
   "metadata": {},
   "source": [
    "### 1. Affecter une fonction à une variable\n",
    "\n",
    "D'abord, il faut savoir qu'en tant que 'citoyen de première classe' les fonctions en Python peuvent être affectées à des variables, comme c'est le cas avec n'importe quelle autre valeur."
   ]
  },
  {
   "cell_type": "code",
   "execution_count": null,
   "metadata": {},
   "outputs": [],
   "source": [
    "# Soit une fonction simple qui retourne un exponentiel\n",
    "def power(base, exponent):\n",
    "    return base**exponent\n",
    "\n",
    "# Ici, c'est la valeur retournée par la fonction qui est affectée à la variable, pas la fonction elle-même...\n",
    "exp1 = power(4, 2)\n",
    "print(exp1)\n",
    "exp2 = power(4, 3)\n",
    "print(exp2)\n",
    "\n",
    "# ...alors q'ici on affecte à la variable la référence à la fonction.\n",
    "# Il n'y a pas de valeur retournée puisque la fonction n'est pas appelée (absence de parenthèses).\n",
    "exp3 = power\n",
    "\n",
    "# Par la suite, on peut utiliser exp3() pour appeler la fonction power\n",
    "print(exp3(4, 2))\n",
    "print(exp3(4, 3))"
   ]
  },
  {
   "cell_type": "markdown",
   "metadata": {},
   "source": [
    "Tout ça c'est bien beau mais qu'est-ce que ça change et à quoi ça sert?"
   ]
  },
  {
   "cell_type": "markdown",
   "metadata": {},
   "source": [
    "### 2. Fonction interne à une fonction (fonctions imbriquées)\n",
    "\n",
    "Juste avant d'aller plus loin, il faut aussi savoir qu'il est tout à fait possible d'imbriquer une fonction à l'intérieur d'une autre fonction. Les fonctions internes ne sont accessible qu'à partir de l'intérieur de la fonction dans laquelle elles sont définies."
   ]
  },
  {
   "cell_type": "code",
   "execution_count": null,
   "metadata": {},
   "outputs": [],
   "source": [
    "# La fonction suivante comporte une fonction interne de validation pour le type des arguments passés lors de l'appel.\n",
    "\n",
    "def power(base, exponent):\n",
    "    \n",
    "    def valid():\n",
    "        valid_base = isinstance(base, int)     or isinstance(base, float)\n",
    "        valid_exp  = isinstance(exponent, int) or isinstance(exponent, float)\n",
    "        return valid_base and valid_exp  # <-- Sera évalué à True ou False\n",
    "    \n",
    "    if valid(): return base**exponent\n",
    "\n",
    "\n",
    "print(power(3, 2))\n",
    "print(power(3, 'a')) # <-- retourne None au lieu de générer une erreur"
   ]
  },
  {
   "cell_type": "markdown",
   "metadata": {},
   "source": [
    "### 3. Fonction qui retourne une fonction\n",
    "\n",
    "Finalement, on a dit en introduction qu'une fonction pouvait retourner une autre fonction. Voyons un exemple simple (simpliste!?)."
   ]
  },
  {
   "cell_type": "code",
   "execution_count": null,
   "metadata": {},
   "outputs": [],
   "source": [
    "def alias_for_print():\n",
    "    return print     # retourne la fonction native print\n",
    "\n",
    "a = alias_for_print()\n",
    "a('allo')"
   ]
  },
  {
   "cell_type": "markdown",
   "metadata": {},
   "source": [
    "### 4. Closure\n",
    "\n",
    "On va combiner ensemble les trois notions précédentes pour obtenir une nouvelle propriété très puissante: les closures."
   ]
  },
  {
   "cell_type": "code",
   "execution_count": null,
   "metadata": {},
   "outputs": [],
   "source": [
    "def power(exponent):\n",
    "    \n",
    "    def inner(base):\n",
    "        return base**exponent\n",
    "    \n",
    "    return inner\n",
    "    \n",
    "\n",
    "# On appelle power() en passant l'argument pour 'exponent'.\n",
    "# C'est la fonction interne inner() qui nous est retournée.\n",
    "# Celle-ci a accès en mémoire persistante à la valeur de 'exponent'. C'est ce que l'on appelle une closure\n",
    "# Chaque appel de power() génère sa propre closure\n",
    "square = power(2)\n",
    "cube   = power(3)\n",
    "forth  = power(4)\n",
    "\n",
    "# À l'aide des parenthèses, on appelle la fonction inner() qui est dans les variables square, cube et forth\n",
    "# On passe en argument la valeur de 'base'\n",
    "print(square(10))\n",
    "print(cube(5))\n",
    "print(forth(2))"
   ]
  },
  {
   "cell_type": "markdown",
   "metadata": {},
   "source": [
    "Est-ce que ça ne commence pas un peu à ressembler à des fonctionnalités que l'on a avec la programmation orientée objet? Continuons d'explorer ça ensemble..."
   ]
  },
  {
   "cell_type": "markdown",
   "metadata": {},
   "source": [
    "### 5. Fonction passée en argument à une fonction\n",
    "\n",
    "Dans notre définition initiale des fonctions d'ordre supérieur, on a aussi fait allusion à la possibilité de prendre une fonction comme argument. Vous connaissez déjà peut-être la fonction native map(). Celle-ci prend comme premier argument une fonction qui va être appliquée individuellement aux élément d'une collection."
   ]
  },
  {
   "cell_type": "code",
   "execution_count": null,
   "metadata": {},
   "outputs": [],
   "source": [
    "# Exemple avec map()\n",
    "\n",
    "lst1 = [1, 2, 3, 4]\n",
    "\n",
    "def f1(value):\n",
    "    return value + 10\n",
    "\n",
    "lst2 = list(map(f1, lst1))\n",
    "print(lst2)"
   ]
  },
  {
   "cell_type": "code",
   "execution_count": null,
   "metadata": {},
   "outputs": [],
   "source": [
    "# On peut évidemment écrire sois-même une fonction qui en prend une autre comme argument\n",
    "\n",
    "def f2(fnc, valeur):\n",
    "    print(fnc(valeur))\n",
    "    \n",
    "f2(len, 'abc')\n",
    "f2(abs, -5)\n",
    "f2(min, [1, 2, 3])"
   ]
  },
  {
   "cell_type": "markdown",
   "metadata": {},
   "source": [
    "Ok. La table est enfin mise pour parler des décorateurs! À suivre dans le prochain Notebook..."
   ]
  }
 ],
 "metadata": {
  "kernelspec": {
   "display_name": "Python 3",
   "language": "python",
   "name": "python3"
  },
  "language_info": {
   "codemirror_mode": {
    "name": "ipython",
    "version": 3
   },
   "file_extension": ".py",
   "mimetype": "text/x-python",
   "name": "python",
   "nbconvert_exporter": "python",
   "pygments_lexer": "ipython3",
   "version": "3.7.6"
  }
 },
 "nbformat": 4,
 "nbformat_minor": 4
}
