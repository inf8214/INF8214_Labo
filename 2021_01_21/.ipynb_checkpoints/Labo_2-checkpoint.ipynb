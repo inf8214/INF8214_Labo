{
 "cells": [
  {
   "cell_type": "markdown",
   "metadata": {},
   "source": [
    "# Labo semaine 02\n",
    "# Programmation orientée objet\n",
    "\n",
    "INF8214, UQÀM Hiver 2021, Mathieu Lemieux"
   ]
  },
  {
   "cell_type": "markdown",
   "metadata": {},
   "source": [
    "Dans cet exercice nous allons créer une classe Adn qui permet de stocker et manipuler une séquence ADN. Nous allons implémenter un constructeur avec quelques propriétés (variables) privées; Nous allons ajouter des mutateurs et des accesseurs pour certaines propriétés; Nous allons ajouter quelques méthodes pour étendre les fonctionnalités de nos objets; Nous allons aussi implémenter les méthodes associées à l'utilisation de certains opérateurs python."
   ]
  },
  {
   "cell_type": "markdown",
   "metadata": {},
   "source": [
    "## La classe Adn\n",
    "\n",
    "1. Créez une classe Adn et implémentez un constructeur qui prend une séquence (chaîne de caractères) comme argument optionnel; par défaut cette séquence est une chaîne vide. Le constructeur enregistre cette séquence dans une propriété (variable) privée.\n",
    "\n",
    "2. On veut pouvoir consulter ou modifier la séquence de l’objet. Implémentez un accesseur et un mutateur à l’aide de décorateurs en s'inspirant de l’exercice de la semaine dernière.\n",
    "\n",
    "3. On aimerait aussi pouvoir obtenir la taille de la séquence. Implémentez une méthode à cet effet, qui retourne le nombre de caractères dans la séquence. On aimerait pouvoir y accéder sans les parenthèses.\n",
    "\n",
    "Aidez-vous de la structure suivante pour développer la classe Adn. Vous devez compléter le code sous chacune des fonctions en remplaçant le mot-clé ***pass***. Le paramètre ***self*** est déjà dans la signature des fonctions mais il se peut que vous deviez rajouter d'autres paramètres au besoin. Les décorateurs ne sont pas en place, vous devez les ajouter lorsque nécessaire."
   ]
  },
  {
   "cell_type": "code",
   "execution_count": null,
   "metadata": {},
   "outputs": [],
   "source": [
    "class Adn:\n",
    "    \n",
    "    # Constructeur\n",
    "    def __init__(self):\n",
    "        pass\n",
    "    \n",
    "    # Accesseur\n",
    "    def sequence(self):\n",
    "        pass\n",
    "    \n",
    "    # Mutateur\n",
    "    def sequence(self):\n",
    "        pass\n",
    "    \n",
    "    # Méthode qui retourne la taille de la séquence\n",
    "    def taille(self):\n",
    "        pass\n"
   ]
  },
  {
   "cell_type": "markdown",
   "metadata": {},
   "source": [
    "Testez la classe en créant quelques objets et en appelant les différentes méthodes implémentées."
   ]
  },
  {
   "cell_type": "code",
   "execution_count": null,
   "metadata": {},
   "outputs": [],
   "source": [
    "a = Adn()\n",
    "b = Adn('ATTTCTGGGAT')\n"
   ]
  },
  {
   "cell_type": "markdown",
   "metadata": {},
   "source": [
    "## Fonctionnalités supplémentaires\n",
    "\n",
    "1. Pour ajouter un peu de fonctionnalité à nos objets, on va avoir besoin d’un dictionnaire des appariments de nucléotides : {'A':'T', 'C':'G', 'G':'C', 'T':'A'}. Ajoutez une seconde propriété privée pour stocker ce dictionnaire. Attention, ce dictionnaire n'est pas passé en argument au moment de la création de l'instance, il doit être déjà présent. Notez que puisque toutes les instances de la classe vont utiliser le même dictionnaire, nous aurions pu utiliser à la place une propriété de classe; c'est ce que nous ferons la prochaine fois.\n",
    "    \n",
    "Cette nouvelle propriété va nous permettre d’ajouter des fonctionnalités supplémentaires à nos objets:\n",
    "\n",
    "2. À chaque fois qu’on modifie la séquence de l’objet (et aussi lors de sa création), on veut vérifier si la nouvelle séquence correspond à une séquence ADN valide (utilisez les clés du dictionnaire pour faire la validation). Si non valide, la séquence est remplacée par une chaîne vide. Implémenter cette fonctionnalité à l’aide d’une méthode privée.\n",
    "3. On veut aussi une méthode publique qui permet d’obtenir le complément inverse de la séquence. Par exemple, si la séquence est ‘AACCT’, la méthode **complement_inverse** retourne ‘AGGTT’.\n",
    "4. On aimerait finalement savoir si la séquence de l’objet est un palindrome. Attention, on parle ici du **palindrome au sens génomique du terme** (https://fr.wikipedia.org/wiki/Séquence_palindromique). Implémentez une méthode publique **est_un_palindrome** qui retourne **True** ou **False**, et qui s’appuie sur **complement_inverse**.\n",
    "\n",
    "Récupérez le code que vous avez développée précédemment et aidez-vous de la structure suivante. Vous devez compléter le code sous chacune des fonctions en remplaçant le mot-clé ***pass***. Le paramètre ***self*** est déjà dans la signature des fonctions mais il se peut que vous deviez rajouter d'autres paramètres au besoin. Les décorateurs ne sont pas en place, vous devez les ajouter lorsque nécessaire."
   ]
  },
  {
   "cell_type": "code",
   "execution_count": 1,
   "metadata": {},
   "outputs": [],
   "source": [
    "class Adn:\n",
    "    \n",
    "    # Réécrivez le constructeur en tenant compte des changements\n",
    "    def __init__(self):\n",
    "        pass\n",
    "    \n",
    "    # Réécrivez le mutateur de la séquence en ajoutant la validation\n",
    "    def sequence(self):\n",
    "        pass\n",
    "    \n",
    "    # Méthode privée de validation\n",
    "    # ...à développer\n",
    "            \n",
    "    # Méthode pour obtenir le complément inverse\n",
    "    def complement_inverse(self):\n",
    "        pass\n",
    "    \n",
    "    # Méthode pour évaluer si la séquence est un palindrome\n",
    "    def est_un_palindrome(self):\n",
    "        pass\n",
    "    "
   ]
  },
  {
   "cell_type": "markdown",
   "metadata": {},
   "source": [
    "Testez la classe en créant quelques objets et en essayant les nouvelles fonctionnalités."
   ]
  },
  {
   "cell_type": "code",
   "execution_count": null,
   "metadata": {},
   "outputs": [],
   "source": [
    "c = Adn('abcdef')                 # <-- Séquence non-valide\n",
    "d = Adn('ACCTAGATTCGGAcggtttt')   # <-- Séquence valide\n",
    "e = Adn('ACCTGCAGGT')             # <-- Séquence valide palindromique\n"
   ]
  },
  {
   "cell_type": "markdown",
   "metadata": {},
   "source": [
    "## Quelques méthodes ***\\\"dunder\\\"*** (Double UNDERscore)\n",
    "\n",
    "1. Modifiez la représentation en chaîne de caractères de l’objet en ‘surchargeant’ la méthode héritée \\__str__(). Choisissez une représentation à votre goût.\n",
    "\n",
    "2. Pour chacun des opérateurs de comparaison (==, !=, <, >, <=, >=), il existe une méthode correspondante qui est implicitement appelée pour effectuer la comparaison (respectivement \\__eq__(), \\__ne__(), \\__lt__(), \\__gt__(), \\__le__(), \\__ge__()). Choisissez-en quelques-une et implémentez-les **en vous basant sur la taille des séquences** (Note: Pour \\__eq__() et \\__ne__(), basez-vous plutôt sur le contenu de la séquence).\n",
    "\n",
    "3. Nous allons aussi implémenter \\__add__(). Cette méthode est appelée lorsque deux objets sont additionnés ensemble (à l’aide de l’opérateur ‘+’ par exemple). Nous voulons **retourner un nouvel objet** dont la séquence est la concaténation des séquences des objets additionnés.\n",
    "\n",
    "4. Seriez-vous aussi capable d’implémenter l’opération ‘+=‘, qui utilise la méthode \\__iadd__()? Cette fois-ci ne retournez pas un nouvel objet mais modifiez plutôt la séquence du premier en lui concaténant celle du second.\n",
    "\n",
    "\n",
    "Encore une fois, récupérez le code écrit jusqu'ici et aidez-vous de la structure suivante pour étendre les fonctionnalités de la classe. Le paramètre ***self*** est déjà dans la signature des fonctions, ainsi que ***other*** lorsque nécessaire (***other*** se comporte comme ***self*** mais fait référence au 2e objet avec lequel on effectue la comparaison ou l'opération arithmétique)."
   ]
  },
  {
   "cell_type": "code",
   "execution_count": 9,
   "metadata": {},
   "outputs": [],
   "source": [
    "\n",
    "# Représentation en chaîne de caractère de l'objet\n",
    "def __str__(self):\n",
    "    pass\n",
    "\n",
    "\n",
    "# Méthodes des opérateurs de comparaison\n",
    "def __eq__(self, other): # eq = equal\n",
    "    pass\n",
    "\n",
    "def __ne__(self, other): # ne = non equal\n",
    "    pass\n",
    "\n",
    "def __lt__(self, other): # lt = lower than\n",
    "    pass\n",
    "\n",
    "def __gt__(self, other): # gt = greater than\n",
    "    pass\n",
    "\n",
    "def __le__(self, other): # le = lower or equal\n",
    "    pass\n",
    "\n",
    "def __ge__(self, other): # ge = greater or equal\n",
    "    pass\n",
    "\n",
    "\n",
    "# Méthode appelée lors de l'addition de deux objets\n",
    "def __add__(self, other):\n",
    "    pass\n",
    "\n",
    "# Méthode appelée lors de l'assignation additive (+=).\n",
    "def __iadd__(self, other):  # 'iadd' signifie 'in-place add'\n",
    "    pass\n",
    "    "
   ]
  },
  {
   "cell_type": "markdown",
   "metadata": {},
   "source": [
    "Testez la classe finale en créant quelques objets et en essayant les nouvelles fonctionnalités."
   ]
  },
  {
   "cell_type": "code",
   "execution_count": null,
   "metadata": {},
   "outputs": [],
   "source": [
    "f = Adn('ACTG')\n",
    "g = Adn('ACTG')\n",
    "h = Adn('AAAA')\n",
    "i = Adn('GGATTTAGATCG')\n",
    "j = Adn('ACT')\n"
   ]
  },
  {
   "cell_type": "markdown",
   "metadata": {},
   "source": [
    "Vous pouvez maintenant enregistrer votre classe Adn dans un fichier '.py' et l'importer au besoin dans vos futurs projets! Voyez-vous quelques similitudes avec la classe Seq de Biopython? Quelles nouvelles fonctionnalités pouriez-vous développer en vous inspirant de ce module?"
   ]
  }
 ],
 "metadata": {
  "kernelspec": {
   "display_name": "Python 3",
   "language": "python",
   "name": "python3"
  },
  "language_info": {
   "codemirror_mode": {
    "name": "ipython",
    "version": 3
   },
   "file_extension": ".py",
   "mimetype": "text/x-python",
   "name": "python",
   "nbconvert_exporter": "python",
   "pygments_lexer": "ipython3",
   "version": "3.7.6"
  }
 },
 "nbformat": 4,
 "nbformat_minor": 4
}
