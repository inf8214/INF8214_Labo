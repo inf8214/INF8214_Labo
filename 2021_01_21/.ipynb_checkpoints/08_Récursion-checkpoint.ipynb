{
 "cells": [
  {
   "cell_type": "markdown",
   "metadata": {},
   "source": [
    "# Récursions\n",
    "\n",
    "[Mathieu Lemieux](mailto:mathieu@mathieulemieux.com) © 2021"
   ]
  },
  {
   "cell_type": "markdown",
   "metadata": {},
   "source": [
    "Une fonction peut-elle s'appeler elle-même? Et à quoi ça sert?\n",
    "\n",
    "On appelle récursion le fait qu'une fonction soit appellée à l'intérieur de cette même fonction; c'est tout à fait possible mais évidemment il faut poser des balises pour éviter de tomber dans une boucle infinie."
   ]
  },
  {
   "cell_type": "code",
   "execution_count": 42,
   "metadata": {},
   "outputs": [
    {
     "name": "stdout",
     "output_type": "stream",
     "text": [
      "24\n",
      "3628800\n"
     ]
    }
   ],
   "source": [
    "# Soit la fonction suivante, qui retourne le produit factoriel.\n",
    "# Ex. pour n=4, n!=4*3*2*1=24 \n",
    "\n",
    "def factoriel(n):\n",
    "    if   n == 1: return 1                    # <-- Cas de base qui permet de sortir de la 'boucle infinie'\n",
    "    elif n  > 1: return n * factoriel(n-1)   # <-- Notez la récursion\n",
    "    \n",
    "    \n",
    "print(factoriel(4))\n",
    "print(factoriel(10))  # Vous pouvez essayer n=1000 si vous voulez!"
   ]
  },
  {
   "cell_type": "markdown",
   "metadata": {},
   "source": [
    "Notez qu'il est généralement possible de réécrire ces mêmes fonctions sans faire appel à de la récursion."
   ]
  },
  {
   "cell_type": "code",
   "execution_count": 43,
   "metadata": {},
   "outputs": [
    {
     "name": "stdout",
     "output_type": "stream",
     "text": [
      "24\n"
     ]
    }
   ],
   "source": [
    "# Sachant que, pour calculer n, je dois remonter jusqu'à 1...\n",
    "\n",
    "def factoriel2(n):\n",
    "    if n >= 1:\n",
    "        f = 1\n",
    "        for i in range(1, n+1): f*=i\n",
    "        return f\n",
    "    \n",
    "    \n",
    "print(factoriel2(4))"
   ]
  },
  {
   "cell_type": "markdown",
   "metadata": {},
   "source": [
    "Exemple un peu plus complexe de récursion: la suite de Fibionacci"
   ]
  },
  {
   "cell_type": "code",
   "execution_count": null,
   "metadata": {},
   "outputs": [],
   "source": []
  },
  {
   "cell_type": "markdown",
   "metadata": {},
   "source": [
    "Tâchons de suivre le nombre d'appels de fonction à l'aide d'un décorateur..."
   ]
  },
  {
   "cell_type": "code",
   "execution_count": null,
   "metadata": {},
   "outputs": [],
   "source": [
    "def compte(fnc):\n",
    "    compteur=0\n",
    "    def inner(n):\n",
    "        nonlocal compteur\n",
    "        compteur += 1\n",
    "        print(f'Compteur: {compteur}')\n",
    "        return fnc(n)\n",
    "    return inner\n"
   ]
  }
 ],
 "metadata": {
  "kernelspec": {
   "display_name": "Python 3",
   "language": "python",
   "name": "python3"
  },
  "language_info": {
   "codemirror_mode": {
    "name": "ipython",
    "version": 3
   },
   "file_extension": ".py",
   "mimetype": "text/x-python",
   "name": "python",
   "nbconvert_exporter": "python",
   "pygments_lexer": "ipython3",
   "version": "3.7.6"
  }
 },
 "nbformat": 4,
 "nbformat_minor": 4
}
