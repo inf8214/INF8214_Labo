{
 "cells": [
  {
   "cell_type": "markdown",
   "metadata": {},
   "source": [
    "# Expressions conditionnelles\n",
    "\n",
    "Les expressions conditionnelles permettent d'écrire de façon succinct, sur une seule ligne, une structure de contrôle conditionnelle. Elles prennent la forme générale suivante:\n",
    "\n",
    "\\< valeur si vrai \\> **if** \\< condition \\> **else** \\< valeur si faux \\>"
   ]
  },
  {
   "cell_type": "code",
   "execution_count": null,
   "metadata": {},
   "outputs": [],
   "source": [
    "a, b = 1, 2\n",
    "\n",
    "# Contre-exemple avec un bloc conditionnel\n",
    "if a<b:\n",
    "    print('a < b')\n",
    "else:\n",
    "    print('a >= b')\n",
    "    \n",
    "# Équivalent avec expression conditionnelle\n",
    "print('a < b' if a<b else 'a >= b')"
   ]
  },
  {
   "cell_type": "markdown",
   "metadata": {},
   "source": [
    "On peut imbriquer plusieurs conditions (équivalent des ***elif***)."
   ]
  },
  {
   "cell_type": "code",
   "execution_count": null,
   "metadata": {},
   "outputs": [],
   "source": [
    "print('a < b' if a<b else 'a > b' if a>b else 'a==b')"
   ]
  },
  {
   "cell_type": "markdown",
   "metadata": {},
   "source": [
    "Comme les blocs conditionnels, les expressions conditionnelles permettent aussi d'exécuter des instructions mais sont limitées à une seule ligne."
   ]
  },
  {
   "cell_type": "code",
   "execution_count": null,
   "metadata": {},
   "outputs": [],
   "source": [
    "lst = [1, 2, 3, 4]\n",
    "\n",
    "lst.append(5) if a>b else lst.pop()\n",
    "print(lst)"
   ]
  }
 ],
 "metadata": {
  "kernelspec": {
   "display_name": "Python 3",
   "language": "python",
   "name": "python3"
  },
  "language_info": {
   "codemirror_mode": {
    "name": "ipython",
    "version": 3
   },
   "file_extension": ".py",
   "mimetype": "text/x-python",
   "name": "python",
   "nbconvert_exporter": "python",
   "pygments_lexer": "ipython3",
   "version": "3.7.6"
  }
 },
 "nbformat": 4,
 "nbformat_minor": 4
}
