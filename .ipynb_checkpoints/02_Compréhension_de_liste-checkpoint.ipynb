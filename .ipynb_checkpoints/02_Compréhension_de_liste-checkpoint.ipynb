{
 "cells": [
  {
   "cell_type": "markdown",
   "metadata": {},
   "source": [
    "# Compréhension de liste (*List comprehension*)\n",
    "\n",
    "Les compréhensions de liste permettent de créer des listes, de façon succinct sur une seule ligne, en utilisant une structure de contrôle itérative de type boucle *for*."
   ]
  },
  {
   "cell_type": "code",
   "execution_count": null,
   "metadata": {},
   "outputs": [],
   "source": [
    "# D'abord un contre-exemple à l'aide d'un bloc itératif\n",
    "lst1 = []\n",
    "for i in range(30):\n",
    "    lst1.append(i)\n",
    "\n",
    "print(lst1)\n",
    "\n",
    "# Équivalent avec une compréhension de liste\n",
    "lst2 = [i for i in range(30)]   # 'i' est passé implicitement à lst2.append() à chaque itération\n",
    "print(lst2)\n",
    "\n",
    "# On n'est pas limité à seulement ajouter 'i'...\n",
    "x=2\n",
    "lst3 = [(i+1)*x for i in range(30)]\n",
    "print(lst3)"
   ]
  },
  {
   "cell_type": "markdown",
   "metadata": {},
   "source": [
    "Les compréhensions de liste peuvent intégrer des expressions conditionnelles (vous voyez maintenant l'utilité de ces expressions!)"
   ]
  },
  {
   "cell_type": "code",
   "execution_count": null,
   "metadata": {},
   "outputs": [],
   "source": [
    "# Conditionnel sans 'else'\n",
    "lst4 = [i for i in range(30) if i%2==0]   # Conditionnel à la fin\n",
    "print(lst4)\n",
    "\n",
    "# Avec un 'else'\n",
    "lst5 = [i if i%2==0 else '!' for i in range(30)]  # Attention à la structure particulière du 'if' et du 'else' placés au début\n",
    "print(lst5)"
   ]
  },
  {
   "cell_type": "markdown",
   "metadata": {},
   "source": [
    " ### Compréhension de dictionnaire\n",
    " \n",
    " Pour les compréhensions de dictionnaire, il faut utiliser les '{}' et faire une itération simultanée sur 2 collections (à l'aide de la fonction native zip())."
   ]
  },
  {
   "cell_type": "code",
   "execution_count": null,
   "metadata": {},
   "outputs": [],
   "source": [
    "keys = 'abc'\n",
    "values = '1234'\n",
    "\n",
    "dict1 = {k:int(v) for k, v in zip(keys, values)} # L'itération se termine avec la collection la plus courte...\n",
    "print(dict1)"
   ]
  }
 ],
 "metadata": {
  "kernelspec": {
   "display_name": "Python 3",
   "language": "python",
   "name": "python3"
  },
  "language_info": {
   "codemirror_mode": {
    "name": "ipython",
    "version": 3
   },
   "file_extension": ".py",
   "mimetype": "text/x-python",
   "name": "python",
   "nbconvert_exporter": "python",
   "pygments_lexer": "ipython3",
   "version": "3.7.6"
  }
 },
 "nbformat": 4,
 "nbformat_minor": 4
}
