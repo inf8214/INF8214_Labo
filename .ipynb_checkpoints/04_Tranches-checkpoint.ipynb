{
 "cells": [
  {
   "cell_type": "markdown",
   "metadata": {},
   "source": [
    "# Tranches\n",
    "\n",
    "Les tranches fonctionnent avec les chaînes de caractères, les listes et les tuples. Elles vous permettent de sélectionner spécifiquement des sous-ensembles basés sur l'index. La structure est toujours la même:\n",
    "\n",
    "[\\< limite inférieure \\> **:** \\< limite supérieure \\> **:** \\< pas \\>]"
   ]
  },
  {
   "cell_type": "code",
   "execution_count": null,
   "metadata": {},
   "outputs": [],
   "source": [
    "a = 'abcdefghij'\n",
    "print(a[2])       # Si vous ne mettez qu'un chiffre, ce n'est pas une tranche en tant que tel mais plutôt un indexe\n",
    "print(a[2:])      # On ajoute '':' avec rien à droite. La limite supérieure est infinie et le pas est +1\n",
    "print(a[:2])      # On ajoute ':' avec rien à gauche. La limite inférieure est 0 et le pas est +1\n",
    "print(a[2:8])     # Le pas est toujours implicite à +1\n",
    "print(a[2:8:2])   # Pas à +2\n",
    "print(a[5:2:-1])  # Pas à -1. Notez que la limite inférieure doit être plus élevée que la limite supérieure dans ce cas\n",
    "print(a[::-1])    # Si on veut toute la chaîne mais spécifier un pas. Pratique pour tout inverser!"
   ]
  },
  {
   "cell_type": "code",
   "execution_count": null,
   "metadata": {},
   "outputs": [],
   "source": [
    "# On veut tester un palindrome\n",
    "\n",
    "b = 'laval'\n",
    "c = 'montréal'\n",
    "\n",
    "print(b==b[::-1])\n",
    "print(c==c[::-1])\n",
    "\n",
    "\n",
    "# On veut tester un palindrome au sens génomique du terme\n",
    "\n",
    "appariments = {'A':'T', 'C':'G', 'G':'C', 'T':'A'}\n",
    "seq1 = 'AACGTT'\n",
    "seq2 = 'AACG'\n",
    "\n",
    "# On utilise aussi les compréhensions de liste en tandem avec la méthode join()...\n",
    "print(seq1==''.join([appariments[i] for i in seq1])[::-1])\n",
    "print(seq2==''.join([appariments[i] for i in seq2])[::-1])"
   ]
  }
 ],
 "metadata": {
  "kernelspec": {
   "display_name": "Python 3",
   "language": "python",
   "name": "python3"
  },
  "language_info": {
   "codemirror_mode": {
    "name": "ipython",
    "version": 3
   },
   "file_extension": ".py",
   "mimetype": "text/x-python",
   "name": "python",
   "nbconvert_exporter": "python",
   "pygments_lexer": "ipython3",
   "version": "3.7.6"
  }
 },
 "nbformat": 4,
 "nbformat_minor": 4
}
