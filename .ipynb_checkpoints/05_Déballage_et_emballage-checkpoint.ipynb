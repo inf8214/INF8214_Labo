{
 "cells": [
  {
   "cell_type": "markdown",
   "metadata": {},
   "source": [
    "# Emballage et déballage (*packing* & *unpacking*)\n",
    "\n",
    "On parle d'emballage lorque Python regroupe, selon le contexte, plusieurs valeurs dans une structure de données au moment d'une affectation. On parle de déballage lorsque ce sont les éléments d'une liste, d'un tuple ou d'un dictionnaire qui sont automatiquement affectés à des variables individuelles.\n"
   ]
  },
  {
   "cell_type": "code",
   "execution_count": null,
   "metadata": {},
   "outputs": [],
   "source": [
    "def f1():\n",
    "    return 1, 2, 3\n",
    "\n",
    "\n",
    "# Si une seule variable pour 'attraper' les 3 valeurs retournées par la fonction,\n",
    "# python les 'emballe' dans un tuple (par défaut)\n",
    "a = f1()\n",
    "print(a)\n",
    "print(a[0]) # On accède alors aux valeurs individuelles à l'aide d'un index\n",
    "\n",
    "# Si autant de variables que de valeurs retournées, chaque valeur est affectée à une variable distincte\n",
    "b, c, d = f1()\n",
    "print(b)\n",
    "print(c)\n",
    "print(d)\n"
   ]
  },
  {
   "cell_type": "code",
   "execution_count": null,
   "metadata": {},
   "outputs": [],
   "source": [
    "def f2():\n",
    "    return [1, 2, 3]  # < ici c'est une liste qui est explicitement retournée\n",
    "\n",
    "# Si une seule variable, la liste retournée est affectée à cette variable comme on s'y attend (pas d'emballage ni de déballage)\n",
    "e = f2()\n",
    "print(e)\n",
    "\n",
    "# Si autant de variables que de valeurs retournées, chaque valeur est 'déballée' dans une variable distincte\n",
    "f, g, h = f2()\n",
    "print(f)\n",
    "print(g)\n",
    "print(h)\n"
   ]
  },
  {
   "cell_type": "markdown",
   "metadata": {},
   "source": [
    "Le déballage est pratique pour passer des arguments à des fonctions. On peut contrôler le déballage d'un tuple ou d'une liste en ajoutant un astérisque collé devant le mon de la variable."
   ]
  },
  {
   "cell_type": "code",
   "execution_count": null,
   "metadata": {},
   "outputs": [],
   "source": [
    "lst = [1, 1, 0]\n",
    "\n",
    "def f3(chat, chien=0, zebre=0):\n",
    "    print(f\"J'ai {chat} chat(s), {chien} chien(s) et {zebre} zèbre(s)!\")\n",
    "\n",
    "    \n",
    "# On déballe lst à l'aide de '*'\n",
    "f3(*lst)\n",
    "\n",
    "# Notez ce qui se passe si le déballage n'a pas lieu; la liste au complet est passée comme 1er argument\n",
    "# P.S. J'ai spécifiquement mis les paramètres chien et zèbre optionnels pour ne pas générer d'erreur...\n",
    "f3(lst)\n"
   ]
  },
  {
   "cell_type": "markdown",
   "metadata": {},
   "source": [
    "Pour déballer un dictionnaire, on utilise le double-astérisque. Chaque clé doit correspondre à un paramètre de la fonction."
   ]
  },
  {
   "cell_type": "code",
   "execution_count": null,
   "metadata": {},
   "outputs": [],
   "source": [
    "dict1 = {'chat':112, 'zebre':9}  # Puisque le paramètre chien est optionnel, il peut être omis...\n",
    "\n",
    "f3(**dict1)\n"
   ]
  },
  {
   "cell_type": "markdown",
   "metadata": {},
   "source": [
    "Bon à savoir: la fonction zip() permet de grouper ensemble des clés et des valeurs, puis de les passer au constructeur dict()"
   ]
  },
  {
   "cell_type": "code",
   "execution_count": null,
   "metadata": {},
   "outputs": [],
   "source": [
    "keys   = ['chat', 'chien', 'zebre']\n",
    "values = [112, 1, 9]\n",
    "\n",
    "args = dict(zip(keys, values))\n",
    "print(args)\n",
    "\n",
    "f3(**args)\n"
   ]
  }
 ],
 "metadata": {
  "kernelspec": {
   "display_name": "Python 3",
   "language": "python",
   "name": "python3"
  },
  "language_info": {
   "codemirror_mode": {
    "name": "ipython",
    "version": 3
   },
   "file_extension": ".py",
   "mimetype": "text/x-python",
   "name": "python",
   "nbconvert_exporter": "python",
   "pygments_lexer": "ipython3",
   "version": "3.7.6"
  }
 },
 "nbformat": 4,
 "nbformat_minor": 4
}
