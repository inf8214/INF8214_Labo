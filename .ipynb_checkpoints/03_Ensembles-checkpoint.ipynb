{
 "cells": [
  {
   "cell_type": "markdown",
   "metadata": {},
   "source": [
    "# Ensembles\n",
    "\n",
    "Les ensembles (sets) sont une structure de données ressemblant aux dictionnaires (ils sont implémentés avec une table de hachage) mais comportant uniquement des clés, sans que celles-ci ne soient associées à aucune valeur. Comme pour les dictionnaire, il ne peut y avoir la même clée plus d'une fois. Les ensembles ont accès à des méthodes (fonctions) très pratiques pour manipuler et comparer des ensembles."
   ]
  },
  {
   "cell_type": "code",
   "execution_count": null,
   "metadata": {},
   "outputs": [],
   "source": [
    "# On utilise les {}, aka 'curly brackets', pour créer un ensemble en lui affectant des valeurs\n",
    "a = {1, 2, 3}\n",
    "b = {3, 'a', True, False}  # Comme avec les autres structures composées, on peut affecter différents types de données\n",
    "\n",
    "# Pour créen un ensemble vide, on doit utiliser sont constructeur set() car ={} retourne un dictionnaire...\n",
    "c = {}\n",
    "d = set()\n",
    "print(type(c))\n",
    "print(type(d))"
   ]
  },
  {
   "cell_type": "markdown",
   "metadata": {},
   "source": [
    "Pour ajouter ou supprimer des éléments à un ensemble, on utilise respectivement les méthodes add() et remove(). On ne peut ajouter un élément qui existe déja dans l'ensemble (ne génère pas d'erreur cependant)."
   ]
  },
  {
   "cell_type": "code",
   "execution_count": null,
   "metadata": {},
   "outputs": [],
   "source": [
    "a.add(4)\n",
    "print(a)\n",
    "\n",
    "a.remove(4)\n",
    "print(a)\n",
    "\n",
    "a.add(3)\n",
    "print(a)"
   ]
  },
  {
   "cell_type": "markdown",
   "metadata": {},
   "source": [
    "L'intérêt d'utiliser des ensembles vient des nombreuses méthodes qu'ils possèdent. Certaines d'entre-elles permettent de facilement comparer des ensembles entre-eux."
   ]
  },
  {
   "cell_type": "code",
   "execution_count": null,
   "metadata": {},
   "outputs": [],
   "source": [
    "# Union\n",
    "print(a.union(b))  # Attention!! True et False, lorsque comparés dans les ensembles, sont évalués respectivement à 1 et 0\n",
    "\n",
    "# Intersection\n",
    "print(a.intersection(b))          # Ce qui est commun aux deux ensembles\n",
    "\n",
    "# Différence\n",
    "print(a.symmetric_difference(b))  # Ce qui n'est pas commun aux deux ensembles\n",
    "print(a.difference(b))            # Ce qui est dans a mais pas dans b\n",
    "print(b.difference(a))            # Ce qui est dans b mais pas dans a\n",
    "\n",
    "# Ces méthodes n'existent que pour les ensembles, mais la comparaison peut être faite sur les clés d'un dictionnaire.\n",
    "e = {1:'a', 2:'b'}\n",
    "print(a.difference(e))\n",
    "\n",
    "# On transforme facilement un autre type de variable en ensemble au moment de la comparaison au besoin\n",
    "f = 'abc'\n",
    "print(set(f).intersection(b))\n"
   ]
  },
  {
   "cell_type": "code",
   "execution_count": null,
   "metadata": {},
   "outputs": [],
   "source": [
    "# Exemple de validation à l'aide des ensembles\n",
    "\n",
    "nucleotides = {'A', 'C', 'G', 'T'}\n",
    "\n",
    "seq1 = 'ATTGCTAAGTTTCGA'\n",
    "seq2 = 'ACGTxyz'\n",
    "\n",
    "print(f\"seq1 est {'valide' if not set(seq1).difference(nucleotides) else 'invalide'}\")\n",
    "print(f\"seq2 est {'valide' if not set(seq2).difference(nucleotides) else 'invalide'}\")"
   ]
  }
 ],
 "metadata": {
  "kernelspec": {
   "display_name": "Python 3",
   "language": "python",
   "name": "python3"
  },
  "language_info": {
   "codemirror_mode": {
    "name": "ipython",
    "version": 3
   },
   "file_extension": ".py",
   "mimetype": "text/x-python",
   "name": "python",
   "nbconvert_exporter": "python",
   "pygments_lexer": "ipython3",
   "version": "3.7.6"
  }
 },
 "nbformat": 4,
 "nbformat_minor": 4
}
