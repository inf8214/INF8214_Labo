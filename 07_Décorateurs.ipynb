{
 "cells": [
  {
   "cell_type": "markdown",
   "metadata": {},
   "source": [
    "# Les décorateurs\n",
    "\n",
    "Assurez-vous d'avoir lu le Notebook sur les fonctions d'ordre supérieur avant de poursuivre."
   ]
  },
  {
   "cell_type": "code",
   "execution_count": null,
   "metadata": {},
   "outputs": [],
   "source": [
    "# D'abord un contre-exemple\n",
    "\n",
    "connaissances = ['Rafik', 'Amélia', 'John']\n",
    "\n",
    "def filtrer_amis(lst):\n",
    "    blackList = {'Amélia', 'Alphonso'}\n",
    "    return list(set(lst).difference(blackList))\n",
    "\n",
    "def invitation(lst):\n",
    "    for nom in lst: print(f'{nom}, tu es cordialement invité(e) à mon anniversaire!')\n",
    "\n",
    "\n",
    "# Inviter tout le monde, sans filtrer\n",
    "invitation(connaissances)\n",
    "print('-'*50)\n",
    "\n",
    "# ou filtrer à chaque fois...\n",
    "invitation(filtrer_amis(connaissances))\n",
    "print('-'*50)\n",
    "invitation(filtrer_amis(connaissances))"
   ]
  },
  {
   "cell_type": "markdown",
   "metadata": {},
   "source": [
    "Peut-on faire mieux?"
   ]
  },
  {
   "cell_type": "code",
   "execution_count": null,
   "metadata": {},
   "outputs": [],
   "source": [
    "\n",
    "connaissances1 = ['Rafik', 'Amélia', 'John']\n",
    "connaissances2 = ['Alphonso', 'Mary']\n",
    "\n",
    "# Simple modification de la fonction filtrer_amis() précédente. Notez la structure vue ensemble dans le Notebook précédent...\n",
    "def filtrer_amis(fnc):\n",
    "    def inner(lst):\n",
    "        blackList = {'Amélia', 'Alphonso'}\n",
    "        return fnc(list(set(lst).difference(blackList)))\n",
    "    return inner\n",
    "\n",
    "def invitation(lst):\n",
    "    for nom in lst: print(f'{nom}, tu es cordialement invité(e) à mon anniversaire!')\n",
    "\n",
    "\n",
    "# On affecte la fonction de filtre une seule fois.\n",
    "invitation = filtrer_amis(invitation)\n",
    "\n",
    "# Par la suite on peut l'appeler avec différentes listes de connaissances.\n",
    "invitation(connaissances1)\n",
    "print('-'*50)\n",
    "invitation(connaissances2)"
   ]
  },
  {
   "cell_type": "markdown",
   "metadata": {},
   "source": [
    "Peut-on faire mieux?"
   ]
  },
  {
   "cell_type": "markdown",
   "metadata": {},
   "source": [
    "### Les décorateurs et la notation 'pie' (@) comme [*Sucre syntaxique*](https://en.wikipedia.org/wiki/Syntactic_sugar)\n",
    "\n",
    "Reprenons exactement les mêmes fonctions que précédemment, mais utilisons la notation Pie des décorateurs."
   ]
  },
  {
   "cell_type": "code",
   "execution_count": null,
   "metadata": {},
   "outputs": [],
   "source": [
    "\n",
    "connaissances1 = ['Rafik', 'Amélia', 'John']\n",
    "connaissances2 = ['Alphonso', 'Mary']\n",
    "\n",
    "def filtrer_amis(fnc):\n",
    "    def inner(lst):\n",
    "        blackList = {'Amélia', 'Alphonso'}\n",
    "        return fnc(list(set(lst).difference(blackList)))\n",
    "    return inner\n",
    "\n",
    "@filtrer_amis  # <-- Permet d'enlever 'invitation = filtrer_amis(invitation)' du code précédent\n",
    "def invitation(lst):\n",
    "    for nom in lst: print(f'{nom}, tu es cordialement invité(e) à mon anniversaire!')\n",
    "\n",
    "\n",
    "# Maintenant, en arrière-plan, c'est filtrer_amis() qui contrôle l'exécution de invitation()!!\n",
    "invitation(connaissances1)\n",
    "print('-'*50)\n",
    "invitation(connaissances2)"
   ]
  },
  {
   "cell_type": "markdown",
   "metadata": {},
   "source": [
    "Peut-on appliquer plusieurs décorateurs à une même fonction? Mais certainement!"
   ]
  },
  {
   "cell_type": "code",
   "execution_count": null,
   "metadata": {},
   "outputs": [],
   "source": [
    "\n",
    "connaissances = ['Rafik', 'Amélia', 'John', 'Alphonso', 'Mary', 'Robert']\n",
    "\n",
    "def filtrer_amis(fnc):\n",
    "    def inner(lst):\n",
    "        blackList = {'Amélia', 'Alphonso'}\n",
    "        return fnc(list(set(lst).difference(blackList)))\n",
    "    return inner\n",
    "\n",
    "def filtrer_parents(fnc):\n",
    "    def inner(lst):\n",
    "        parents = {'Robert', 'Mary'}\n",
    "        return fnc(list(set(lst).difference(parents)))\n",
    "    return inner\n",
    "\n",
    "\n",
    "@filtrer_amis\n",
    "def mariage(lst):\n",
    "    for nom in lst: print(f'{nom}, tu es cordialement invité(e) à mon mariage!')\n",
    "\n",
    "@filtrer_amis\n",
    "@filtrer_parents\n",
    "def bigParty(lst):\n",
    "    for nom in lst: print(f'{nom}, tu es cordialement invité(e) à mon party de graduation!')\n",
    "\n",
    "def déménagement(lst):\n",
    "    for nom in lst: print(f'{nom}, tu es cordialement invité(e) à mon déménagement!')\n",
    "\n",
    "\n",
    "# Différents filtres appliqués grâce aux décorateurs...\n",
    "mariage(connaissances)\n",
    "print('-'*50)\n",
    "bigParty(connaissances)\n",
    "print('-'*50)\n",
    "déménagement(connaissances)"
   ]
  },
  {
   "cell_type": "markdown",
   "metadata": {},
   "source": [
    "Maintenant voyez-vous un peu mieux comment le décorateur @property fonctionne dans les classes? On n'a pas encore fait le tour de la question mais ça devrait normalement être moins mystérieux maintenant. N'hésitez pas à m'écrire si vous avez des questions!\n",
    "\n",
    "En terminant, un dernier exemple d'application."
   ]
  },
  {
   "cell_type": "markdown",
   "metadata": {},
   "source": [
    "### Autre exemple d'application: Système de Cache"
   ]
  },
  {
   "cell_type": "code",
   "execution_count": null,
   "metadata": {},
   "outputs": [],
   "source": [
    "import time\n",
    "\n",
    "def mettreEnMémoire(fnc):\n",
    "    d = dict()    # <-- Stock en mémoire les résultats déjà obtenus\n",
    "    def inner(x):\n",
    "        if x not in d: d[x] = fnc(x)  # <-- La fonction est appelée seulement si x n'est pas dans le dictionnaire\n",
    "        return d[x]\n",
    "    return inner\n",
    "\n",
    "\n",
    "@mettreEnMémoire\n",
    "def grosCalcul(x):\n",
    "    \n",
    "    time.sleep(1)  # Sert uniquement à faire attendre 1 seconde pour simuler un long calcul\n",
    "    return x*10\n",
    "\n",
    "\n",
    "\n",
    "print(grosCalcul(1))\n",
    "print(grosCalcul(2))\n",
    "print(grosCalcul(3))\n",
    "print(grosCalcul(3))  # <-- Va être très rapide car a déjà été appelé\n",
    "print(grosCalcul(4))\n",
    "print(grosCalcul(4))  # <-- Va être très rapide car a déjà été appelé"
   ]
  },
  {
   "cell_type": "code",
   "execution_count": null,
   "metadata": {},
   "outputs": [],
   "source": [
    "# En fait, c'est déjà implémenté dans python...\n",
    "\n",
    "import time\n",
    "from functools import lru_cache\n",
    "\n",
    "@lru_cache()       # <-- les parenthèses sont nécessaires pour lru_cache()\n",
    "def grosCalcul(x):\n",
    "    \n",
    "    time.sleep(1)\n",
    "    return x*10\n",
    "\n",
    "\n",
    "\n",
    "print(grosCalcul(1))\n",
    "print(grosCalcul(2))\n",
    "print(grosCalcul(3))\n",
    "print(grosCalcul(3))\n",
    "print(grosCalcul(4))\n",
    "print(grosCalcul(4))"
   ]
  }
 ],
 "metadata": {
  "kernelspec": {
   "display_name": "Python 3",
   "language": "python",
   "name": "python3"
  },
  "language_info": {
   "codemirror_mode": {
    "name": "ipython",
    "version": 3
   },
   "file_extension": ".py",
   "mimetype": "text/x-python",
   "name": "python",
   "nbconvert_exporter": "python",
   "pygments_lexer": "ipython3",
   "version": "3.7.6"
  }
 },
 "nbformat": 4,
 "nbformat_minor": 4
}
